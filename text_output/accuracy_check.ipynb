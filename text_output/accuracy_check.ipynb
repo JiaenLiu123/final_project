{
 "cells": [
  {
   "cell_type": "code",
   "execution_count": 1,
   "metadata": {},
   "outputs": [],
   "source": [
    "# Now let us check the accuracy of the model\n",
    "# First we will import the required libraries\n",
    "import pandas as pd\n",
    "import numpy as np\n",
    "import matplotlib.pyplot as plt\n",
    "import copy\n",
    "# import seaborn as sns"
   ]
  },
  {
   "attachments": {},
   "cell_type": "markdown",
   "metadata": {},
   "source": [
    "Load output of the model"
   ]
  },
  {
   "cell_type": "code",
   "execution_count": 3,
   "metadata": {},
   "outputs": [
    {
     "data": {
      "text/html": [
       "<div>\n",
       "<style scoped>\n",
       "    .dataframe tbody tr th:only-of-type {\n",
       "        vertical-align: middle;\n",
       "    }\n",
       "\n",
       "    .dataframe tbody tr th {\n",
       "        vertical-align: top;\n",
       "    }\n",
       "\n",
       "    .dataframe thead th {\n",
       "        text-align: right;\n",
       "    }\n",
       "</style>\n",
       "<table border=\"1\" class=\"dataframe\">\n",
       "  <thead>\n",
       "    <tr style=\"text-align: right;\">\n",
       "      <th></th>\n",
       "      <th>correct</th>\n",
       "      <th>date</th>\n",
       "      <th>naive_date_confidence</th>\n",
       "      <th>total</th>\n",
       "      <th>naive_total_confidence</th>\n",
       "      <th>text</th>\n",
       "    </tr>\n",
       "    <tr>\n",
       "      <th>id</th>\n",
       "      <th></th>\n",
       "      <th></th>\n",
       "      <th></th>\n",
       "      <th></th>\n",
       "      <th></th>\n",
       "      <th></th>\n",
       "    </tr>\n",
       "  </thead>\n",
       "  <tbody>\n",
       "    <tr>\n",
       "      <th>4</th>\n",
       "      <td>True</td>\n",
       "      <td>2017-02-27 12:29:14</td>\n",
       "      <td>0.687667</td>\n",
       "      <td>6.74</td>\n",
       "      <td>0.667967</td>\n",
       "      <td>CRF-CITY LA ROCHELLE\\n33 RUE DE LA SCIERIE\\n17...</td>\n",
       "    </tr>\n",
       "    <tr>\n",
       "      <th>5</th>\n",
       "      <td>True</td>\n",
       "      <td>2017-02-26 11:10:32</td>\n",
       "      <td>0.689433</td>\n",
       "      <td>11.16</td>\n",
       "      <td>0.667933</td>\n",
       "      <td>city\\nCRF-CITY LA ROCHELLE\\n33 RUE DE LA SCIER...</td>\n",
       "    </tr>\n",
       "    <tr>\n",
       "      <th>6</th>\n",
       "      <td>True</td>\n",
       "      <td>2017-02-25 11:05:35</td>\n",
       "      <td>0.704167</td>\n",
       "      <td>6.99</td>\n",
       "      <td>0.668133</td>\n",
       "      <td>CRF-CITY LA ROCHELLE\\n33 RUE DE LA SCIERIE\\n17...</td>\n",
       "    </tr>\n",
       "    <tr>\n",
       "      <th>9</th>\n",
       "      <td>True</td>\n",
       "      <td>2016-05-23 12:29:03</td>\n",
       "      <td>0.697633</td>\n",
       "      <td>5.04</td>\n",
       "      <td>0.668100</td>\n",
       "      <td>CRF-CITY LA ROCHELLE\\n33 RUE DE LA SCIERIE\\n17...</td>\n",
       "    </tr>\n",
       "    <tr>\n",
       "      <th>10</th>\n",
       "      <td>True</td>\n",
       "      <td>2016-04-22 20:25:13</td>\n",
       "      <td>0.685633</td>\n",
       "      <td>14.46</td>\n",
       "      <td>0.667833</td>\n",
       "      <td>Carrefour\\ncity\\nCRF-CITY LA ROCHELLE\\n33 RUE ...</td>\n",
       "    </tr>\n",
       "  </tbody>\n",
       "</table>\n",
       "</div>"
      ],
      "text/plain": [
       "    correct                 date  naive_date_confidence  total  \\\n",
       "id                                                               \n",
       "4      True  2017-02-27 12:29:14               0.687667   6.74   \n",
       "5      True  2017-02-26 11:10:32               0.689433  11.16   \n",
       "6      True  2017-02-25 11:05:35               0.704167   6.99   \n",
       "9      True  2016-05-23 12:29:03               0.697633   5.04   \n",
       "10     True  2016-04-22 20:25:13               0.685633  14.46   \n",
       "\n",
       "    naive_total_confidence                                               text  \n",
       "id                                                                             \n",
       "4                 0.667967  CRF-CITY LA ROCHELLE\\n33 RUE DE LA SCIERIE\\n17...  \n",
       "5                 0.667933  city\\nCRF-CITY LA ROCHELLE\\n33 RUE DE LA SCIER...  \n",
       "6                 0.668133  CRF-CITY LA ROCHELLE\\n33 RUE DE LA SCIERIE\\n17...  \n",
       "9                 0.668100  CRF-CITY LA ROCHELLE\\n33 RUE DE LA SCIERIE\\n17...  \n",
       "10                0.667833  Carrefour\\ncity\\nCRF-CITY LA ROCHELLE\\n33 RUE ...  "
      ]
     },
     "execution_count": 3,
     "metadata": {},
     "output_type": "execute_result"
    }
   ],
   "source": [
    "grand_truth = pd.read_csv('/Users/liujiaen/Documents/Text_Recognition/final_project/correct.csv',index_col=0)\n",
    "grand_truth.head()"
   ]
  },
  {
   "cell_type": "code",
   "execution_count": 4,
   "metadata": {},
   "outputs": [
    {
     "data": {
      "text/plain": [
       "id\n",
       "4       6.74\n",
       "5      11.16\n",
       "6       6.99\n",
       "9       5.04\n",
       "10     14.46\n",
       "       ...  \n",
       "912     1.66\n",
       "913     7.30\n",
       "923    63.56\n",
       "935     8.60\n",
       "936     5.98\n",
       "Name: total, Length: 413, dtype: float64"
      ]
     },
     "execution_count": 4,
     "metadata": {},
     "output_type": "execute_result"
    }
   ],
   "source": [
    "grand_truth_total = grand_truth['total']\n",
    "grand_truth_total"
   ]
  },
  {
   "cell_type": "code",
   "execution_count": 5,
   "metadata": {},
   "outputs": [
    {
     "data": {
      "text/html": [
       "<div>\n",
       "<style scoped>\n",
       "    .dataframe tbody tr th:only-of-type {\n",
       "        vertical-align: middle;\n",
       "    }\n",
       "\n",
       "    .dataframe tbody tr th {\n",
       "        vertical-align: top;\n",
       "    }\n",
       "\n",
       "    .dataframe thead th {\n",
       "        text-align: right;\n",
       "    }\n",
       "</style>\n",
       "<table border=\"1\" class=\"dataframe\">\n",
       "  <thead>\n",
       "    <tr style=\"text-align: right;\">\n",
       "      <th></th>\n",
       "      <th>date</th>\n",
       "      <th>amount</th>\n",
       "    </tr>\n",
       "    <tr>\n",
       "      <th>id</th>\n",
       "      <th></th>\n",
       "      <th></th>\n",
       "    </tr>\n",
       "  </thead>\n",
       "  <tbody>\n",
       "    <tr>\n",
       "      <th>4</th>\n",
       "      <td>2017-02-27 12:24:45</td>\n",
       "      <td>0.3</td>\n",
       "    </tr>\n",
       "    <tr>\n",
       "      <th>5</th>\n",
       "      <td>2020-02-26 01:05:00</td>\n",
       "      <td>11.16</td>\n",
       "    </tr>\n",
       "    <tr>\n",
       "      <th>6</th>\n",
       "      <td>None</td>\n",
       "      <td>1.44</td>\n",
       "    </tr>\n",
       "    <tr>\n",
       "      <th>9</th>\n",
       "      <td>2016-05-23 12:29:03</td>\n",
       "      <td>5.04</td>\n",
       "    </tr>\n",
       "    <tr>\n",
       "      <th>10</th>\n",
       "      <td>2016-04-22 00:00:00</td>\n",
       "      <td>4.46</td>\n",
       "    </tr>\n",
       "  </tbody>\n",
       "</table>\n",
       "</div>"
      ],
      "text/plain": [
       "                   date  amount\n",
       "id                             \n",
       "4   2017-02-27 12:24:45    0.3 \n",
       "5   2020-02-26 01:05:00  11.16 \n",
       "6                  None   1.44 \n",
       "9   2016-05-23 12:29:03   5.04 \n",
       "10  2016-04-22 00:00:00   4.46 "
      ]
     },
     "execution_count": 5,
     "metadata": {},
     "output_type": "execute_result"
    }
   ],
   "source": [
    "regex_df = pd.read_csv('regex.csv', index_col=0, sep=';')\n",
    "regex_df.sort_index(inplace=True)\n",
    "regex_df.head()"
   ]
  },
  {
   "cell_type": "code",
   "execution_count": 6,
   "metadata": {},
   "outputs": [
    {
     "data": {
      "text/plain": [
       "id\n",
       "4         0.3 \n",
       "5       11.16 \n",
       "6        1.44 \n",
       "9        5.04 \n",
       "10       4.46 \n",
       "         ...  \n",
       "1902     0.95 \n",
       "1919     3.89 \n",
       "1929      3.7 \n",
       "1934     0.72 \n",
       "1964     0.65 \n",
       "Name: amount, Length: 500, dtype: object"
      ]
     },
     "execution_count": 6,
     "metadata": {},
     "output_type": "execute_result"
    }
   ],
   "source": [
    "regex_amount = regex_df['amount']\n",
    "regex_amount"
   ]
  },
  {
   "cell_type": "code",
   "execution_count": 7,
   "metadata": {},
   "outputs": [],
   "source": [
    "regex_amount = regex_amount[regex_amount.index.isin(grand_truth_total.index)]"
   ]
  },
  {
   "cell_type": "code",
   "execution_count": 8,
   "metadata": {},
   "outputs": [
    {
     "data": {
      "text/plain": [
       "id\n",
       "4         0.3 \n",
       "5       11.16 \n",
       "6        1.44 \n",
       "9        5.04 \n",
       "10       4.46 \n",
       "         ...  \n",
       "1795      8.5 \n",
       "1815     45.9 \n",
       "1856      3.0 \n",
       "1869      2.1 \n",
       "1964     0.65 \n",
       "Name: amount, Length: 413, dtype: object"
      ]
     },
     "execution_count": 8,
     "metadata": {},
     "output_type": "execute_result"
    }
   ],
   "source": [
    "regex_amount"
   ]
  },
  {
   "cell_type": "code",
   "execution_count": 12,
   "metadata": {},
   "outputs": [
    {
     "data": {
      "text/plain": [
       "6.74"
      ]
     },
     "execution_count": 12,
     "metadata": {},
     "output_type": "execute_result"
    }
   ],
   "source": [
    "grand_truth_total[4]"
   ]
  },
  {
   "cell_type": "code",
   "execution_count": 19,
   "metadata": {},
   "outputs": [
    {
     "name": "stdout",
     "output_type": "stream",
     "text": [
      "5 11.16 11.16 \n",
      "9 5.04 5.04 \n",
      "15 12.07 12.07 \n",
      "30 4.11 4.11 \n",
      "34 6.71 6.71 \n",
      "48 19.26 19.26 \n",
      "55 5.3 5.3 \n",
      "65 6.7 6.7 \n",
      "86 1.95 1.95 \n",
      "89 2.14 2.14 \n",
      "96 2.52 2.52 \n",
      "98 2.3 2.3 \n",
      "104 13.71 13.71 \n",
      "109 2.61 2.61 \n",
      "113 5.4 5.4 \n",
      "129 4.86 4.86 \n",
      "132 6.88 6.88 \n",
      "138 4.23 4.23 \n",
      "142 13.77 13.77 \n",
      "148 5.28 5.28 \n",
      "152 5.16 5.16 \n",
      "153 6.22 6.22 \n",
      "154 6.15 6.15 \n",
      "162 8.9 8.9 \n",
      "181 13.01 13.01 \n",
      "184 5.78 5.78 \n",
      "185 7.91 7.91 \n",
      "188 10.98 10.98 \n",
      "189 4.63 4.63 \n",
      "191 59.42 59.42 \n",
      "194 36.73 36.73 \n",
      "197 21.49 21.49 \n",
      "204 25.68 25.68 \n",
      "210 86.29 86.29 \n",
      "219 17.12 17.12 \n",
      "222 14.48 14.48 \n",
      "224 11.73 11.73 \n",
      "228 58.47 58.47 \n",
      "233 18.96 18.96 \n",
      "235 10.2 10.2 \n",
      "247 3.85 3.85 \n",
      "250 18.71 18.71 \n",
      "267 4.4 4.4 \n",
      "271 8.61 8.61 \n",
      "275 8.02 8.02 \n",
      "276 6.9 6.9 \n",
      "278 6.44 6.44 \n",
      "279 8.34 8.34 \n",
      "280 6.56 6.56 \n",
      "281 6.24 6.24 \n",
      "284 8.2 8.2 \n",
      "285 8.82 8.82 \n",
      "287 5.42 5.42 \n",
      "288 7.9 7.9 \n",
      "289 9.11 9.11 \n",
      "293 52.31 52.31 \n",
      "295 5.15 5.15 \n",
      "307 4.23 4.23 \n",
      "309 6.06 6.06 \n",
      "314 6.92 6.92 \n",
      "336 4.39 4.39 \n",
      "341 14.76 14.76 \n",
      "345 5.98 5.98 \n",
      "347 3.21 3.21 \n",
      "359 5.16 5.16 \n",
      "363 10.44 10.44 \n",
      "365 4.62 4.62 \n",
      "372 8.0 8.0 \n",
      "375 4.3 4.3 \n",
      "384 1.68 1.68 \n",
      "391 11.71 11.71 \n",
      "395 6.81 6.81 \n",
      "398 6.86 6.86 \n",
      "399 14.76 14.76 \n",
      "402 1.71 1.71 \n",
      "413 9.74 9.74 \n",
      "417 3.39 3.39 \n",
      "421 7.9 7.9 \n",
      "423 10.83 10.83 \n",
      "433 21.35 21.35 \n",
      "446 4.23 4.23 \n",
      "456 5.73 5.73 \n",
      "459 1.4 1.4 \n",
      "462 6.15 6.15 \n",
      "475 18.59 18.59 \n",
      "481 28.16 28.16 \n",
      "489 53.38 53.38 \n",
      "491 6.26 6.26 \n",
      "492 23.93 23.93 \n",
      "495 10.0 10.0 \n",
      "504 8.37 8.37 \n",
      "506 13.7 13.7 \n",
      "511 38.16 38.16 \n",
      "513 30.68 30.68 \n",
      "516 41.36 41.36 \n",
      "524 6.42 6.42 \n",
      "525 7.48 7.48 \n",
      "531 4.28 4.28 \n",
      "532 16.47 16.47 \n",
      "542 6.11 6.11 \n",
      "543 7.32 7.32 \n",
      "545 6.7 6.7 \n",
      "548 1.08 1.08 \n",
      "549 6.51 6.51 \n",
      "550 9.67 9.67 \n",
      "554 6.77 6.77 \n",
      "559 5.8 5.8 \n",
      "562 2.14 2.14 \n",
      "564 1.78 1.78 \n",
      "569 0.5 0.5 \n",
      "570 13.82 13.82 \n",
      "571 13.3 13.3 \n",
      "574 9.36 9.36 \n",
      "587 11.27 11.27 \n",
      "588 0.65 0.65 \n",
      "591 90.94 90.94 \n",
      "603 6.92 6.92 \n",
      "617 4.35 4.35 \n",
      "619 7.25 7.25 \n",
      "622 8.07 8.07 \n",
      "652 5.26 5.26 \n",
      "666 23.23 23.23 \n",
      "678 9.4 9.4 \n",
      "685 7.3 7.3 \n",
      "690 8.0 8.0 \n",
      "719 87.4 87.4 \n",
      "738 5.47 5.47 \n",
      "794 59.3 59.3 \n",
      "802 6.0 6.0 \n",
      "809 9.5 9.5 \n",
      "824 4.0 4.0 \n",
      "841 9.1 9.1 \n",
      "854 4.21 4.21 \n",
      "897 1.16 1.16 \n",
      "934 1.5 1.5 \n",
      "937 1.75 1.75 \n",
      "966 7.0 7.0 \n",
      "970 8.25 8.25 \n",
      "977 19.0 19.0 \n",
      "982 11.1 11.1 \n",
      "1122 66.4 66.4 \n",
      "1249 1.5 1.5 \n",
      "1256 8.5 8.5 \n",
      "1317 20.06 20.06 \n",
      "1442 9.9 9.9 \n",
      "1530 5.0 5.0 \n",
      "1539 3.1 3.1 \n",
      "1540 22.0 22.0 \n",
      "1567 54.9 54.9 \n",
      "1697 9.99 9.99 \n",
      "1720 4.89 4.89 \n",
      "1728 4.82 4.82 \n",
      "357 11.81 11.81 \n",
      "566 19.07 19.07 \n",
      "596 3.9 3.9 \n",
      "598 1.56 1.56 \n",
      "630 46.0 46.0 \n",
      "637 0.96 0.96 \n",
      "654 83.0 83.0 \n",
      "681 19.0 19.0 \n",
      "683 91.9 91.9 \n",
      "695 5.67 5.67 \n",
      "726 9.11 9.11 \n",
      "735 90.0 90.0 \n",
      "758 5.44 5.44 \n",
      "771 58.5 58.5 \n",
      "782 49.66 49.66 \n",
      "790 19.4 19.4 \n",
      "815 84.6 84.6 \n",
      "905 14.31 14.31 \n",
      "911 7.35 7.35 \n",
      "912 1.66 1.66 \n",
      "913 7.3 7.3 \n",
      "935 8.6 8.6 \n"
     ]
    }
   ],
   "source": [
    "correct = 0\n",
    "for i in grand_truth_total.index:\n",
    "    if regex_amount[i] == 'None ':\n",
    "        continue\n",
    "    if float(grand_truth_total[i]) == float(regex_amount[i]):\n",
    "        print(i, grand_truth_total[i], regex_amount[i])\n",
    "        correct += 1"
   ]
  },
  {
   "cell_type": "code",
   "execution_count": 21,
   "metadata": {},
   "outputs": [
    {
     "data": {
      "text/plain": [
       "0.4213075060532688"
      ]
     },
     "execution_count": 21,
     "metadata": {},
     "output_type": "execute_result"
    }
   ],
   "source": [
    "correct/len(grand_truth_total)"
   ]
  },
  {
   "cell_type": "code",
   "execution_count": 18,
   "metadata": {},
   "outputs": [
    {
     "data": {
      "text/plain": [
       "RangeIndex(start=0, stop=413, step=1)"
      ]
     },
     "execution_count": 18,
     "metadata": {},
     "output_type": "execute_result"
    }
   ],
   "source": [
    "grand_truth_total.index"
   ]
  },
  {
   "cell_type": "code",
   "execution_count": 17,
   "metadata": {},
   "outputs": [
    {
     "data": {
      "text/plain": [
       "Int64Index([  4,   5,   6,   9,  10,  15,  16,  17,  19,  23,\n",
       "            ...\n",
       "            391, 393, 394, 395, 397, 398, 399, 402, 405, 409],\n",
       "           dtype='int64', name='id', length=159)"
      ]
     },
     "execution_count": 17,
     "metadata": {},
     "output_type": "execute_result"
    }
   ],
   "source": [
    "regex_amount.index"
   ]
  },
  {
   "cell_type": "code",
   "execution_count": 23,
   "metadata": {},
   "outputs": [
    {
     "data": {
      "text/html": [
       "<div>\n",
       "<style scoped>\n",
       "    .dataframe tbody tr th:only-of-type {\n",
       "        vertical-align: middle;\n",
       "    }\n",
       "\n",
       "    .dataframe tbody tr th {\n",
       "        vertical-align: top;\n",
       "    }\n",
       "\n",
       "    .dataframe thead th {\n",
       "        text-align: right;\n",
       "    }\n",
       "</style>\n",
       "<table border=\"1\" class=\"dataframe\">\n",
       "  <thead>\n",
       "    <tr style=\"text-align: right;\">\n",
       "      <th></th>\n",
       "      <th>text</th>\n",
       "      <th>label</th>\n",
       "    </tr>\n",
       "    <tr>\n",
       "      <th>id</th>\n",
       "      <th></th>\n",
       "      <th></th>\n",
       "    </tr>\n",
       "  </thead>\n",
       "  <tbody>\n",
       "    <tr>\n",
       "      <th>362</th>\n",
       "      <td>7,82€</td>\n",
       "      <td>TOTAL</td>\n",
       "    </tr>\n",
       "    <tr>\n",
       "      <th>362</th>\n",
       "      <td>07/06/2017</td>\n",
       "      <td>DATE</td>\n",
       "    </tr>\n",
       "    <tr>\n",
       "      <th>23</th>\n",
       "      <td>1.62€</td>\n",
       "      <td>TOTAL</td>\n",
       "    </tr>\n",
       "    <tr>\n",
       "      <th>23</th>\n",
       "      <td>09/06/20</td>\n",
       "      <td>DATE</td>\n",
       "    </tr>\n",
       "    <tr>\n",
       "      <th>1543</th>\n",
       "      <td>4,</td>\n",
       "      <td>TOTAL</td>\n",
       "    </tr>\n",
       "  </tbody>\n",
       "</table>\n",
       "</div>"
      ],
      "text/plain": [
       "            text  label\n",
       "id                     \n",
       "362        7,82€  TOTAL\n",
       "362   07/06/2017   DATE\n",
       "23         1.62€  TOTAL\n",
       "23      09/06/20   DATE\n",
       "1543          4,  TOTAL"
      ]
     },
     "execution_count": 23,
     "metadata": {},
     "output_type": "execute_result"
    }
   ],
   "source": [
    "lm_df = pd.read_csv('output.csv', sep=\";\", index_col=0)\n",
    "lm_df.head()"
   ]
  },
  {
   "cell_type": "code",
   "execution_count": 26,
   "metadata": {},
   "outputs": [
    {
     "data": {
      "text/html": [
       "<div>\n",
       "<style scoped>\n",
       "    .dataframe tbody tr th:only-of-type {\n",
       "        vertical-align: middle;\n",
       "    }\n",
       "\n",
       "    .dataframe tbody tr th {\n",
       "        vertical-align: top;\n",
       "    }\n",
       "\n",
       "    .dataframe thead th {\n",
       "        text-align: right;\n",
       "    }\n",
       "</style>\n",
       "<table border=\"1\" class=\"dataframe\">\n",
       "  <thead>\n",
       "    <tr style=\"text-align: right;\">\n",
       "      <th></th>\n",
       "      <th>text</th>\n",
       "      <th>label</th>\n",
       "    </tr>\n",
       "    <tr>\n",
       "      <th>id</th>\n",
       "      <th></th>\n",
       "      <th></th>\n",
       "    </tr>\n",
       "  </thead>\n",
       "  <tbody>\n",
       "    <tr>\n",
       "      <th>4</th>\n",
       "      <td>27/02/2017</td>\n",
       "      <td>DATE</td>\n",
       "    </tr>\n",
       "    <tr>\n",
       "      <th>4</th>\n",
       "      <td>6b.74€</td>\n",
       "      <td>TOTAL</td>\n",
       "    </tr>\n",
       "    <tr>\n",
       "      <th>5</th>\n",
       "      <td>11.16€</td>\n",
       "      <td>TOTAL</td>\n",
       "    </tr>\n",
       "    <tr>\n",
       "      <th>5</th>\n",
       "      <td>26/02/20</td>\n",
       "      <td>DATE</td>\n",
       "    </tr>\n",
       "    <tr>\n",
       "      <th>6</th>\n",
       "      <td>b.99€</td>\n",
       "      <td>TOTAL</td>\n",
       "    </tr>\n",
       "  </tbody>\n",
       "</table>\n",
       "</div>"
      ],
      "text/plain": [
       "          text  label\n",
       "id                   \n",
       "4   27/02/2017   DATE\n",
       "4       6b.74€  TOTAL\n",
       "5       11.16€  TOTAL\n",
       "5     26/02/20   DATE\n",
       "6        b.99€  TOTAL"
      ]
     },
     "execution_count": 26,
     "metadata": {},
     "output_type": "execute_result"
    }
   ],
   "source": [
    "lm_df.sort_index(inplace=True)\n",
    "lm_df.head()"
   ]
  },
  {
   "cell_type": "code",
   "execution_count": 17,
   "metadata": {},
   "outputs": [
    {
     "data": {
      "text/html": [
       "<div>\n",
       "<style scoped>\n",
       "    .dataframe tbody tr th:only-of-type {\n",
       "        vertical-align: middle;\n",
       "    }\n",
       "\n",
       "    .dataframe tbody tr th {\n",
       "        vertical-align: top;\n",
       "    }\n",
       "\n",
       "    .dataframe thead th {\n",
       "        text-align: right;\n",
       "    }\n",
       "</style>\n",
       "<table border=\"1\" class=\"dataframe\">\n",
       "  <thead>\n",
       "    <tr style=\"text-align: right;\">\n",
       "      <th></th>\n",
       "      <th>id</th>\n",
       "      <th>text</th>\n",
       "      <th>label</th>\n",
       "    </tr>\n",
       "  </thead>\n",
       "  <tbody>\n",
       "    <tr>\n",
       "      <th>1</th>\n",
       "      <td>362</td>\n",
       "      <td>07/06/2017</td>\n",
       "      <td>DATE</td>\n",
       "    </tr>\n",
       "    <tr>\n",
       "      <th>3</th>\n",
       "      <td>23</td>\n",
       "      <td>09/06/20</td>\n",
       "      <td>DATE</td>\n",
       "    </tr>\n",
       "    <tr>\n",
       "      <th>5</th>\n",
       "      <td>1543</td>\n",
       "      <td>DI</td>\n",
       "      <td>DATE</td>\n",
       "    </tr>\n",
       "    <tr>\n",
       "      <th>6</th>\n",
       "      <td>1543</td>\n",
       "      <td>203</td>\n",
       "      <td>DATE</td>\n",
       "    </tr>\n",
       "    <tr>\n",
       "      <th>7</th>\n",
       "      <td>1543</td>\n",
       "      <td>13:</td>\n",
       "      <td>DATE</td>\n",
       "    </tr>\n",
       "  </tbody>\n",
       "</table>\n",
       "</div>"
      ],
      "text/plain": [
       "     id        text label\n",
       "1   362  07/06/2017  DATE\n",
       "3    23    09/06/20  DATE\n",
       "5  1543          DI  DATE\n",
       "6  1543         203  DATE\n",
       "7  1543         13:  DATE"
      ]
     },
     "execution_count": 17,
     "metadata": {},
     "output_type": "execute_result"
    }
   ],
   "source": [
    "date = copy.deepcopy(lm_df[lm_df['label'] == 'DATE'])\n",
    "date.head()"
   ]
  },
  {
   "cell_type": "code",
   "execution_count": 18,
   "metadata": {},
   "outputs": [
    {
     "data": {
      "text/html": [
       "<div>\n",
       "<style scoped>\n",
       "    .dataframe tbody tr th:only-of-type {\n",
       "        vertical-align: middle;\n",
       "    }\n",
       "\n",
       "    .dataframe tbody tr th {\n",
       "        vertical-align: top;\n",
       "    }\n",
       "\n",
       "    .dataframe thead th {\n",
       "        text-align: right;\n",
       "    }\n",
       "</style>\n",
       "<table border=\"1\" class=\"dataframe\">\n",
       "  <thead>\n",
       "    <tr style=\"text-align: right;\">\n",
       "      <th></th>\n",
       "      <th>id</th>\n",
       "      <th>text</th>\n",
       "      <th>label</th>\n",
       "    </tr>\n",
       "  </thead>\n",
       "  <tbody>\n",
       "    <tr>\n",
       "      <th>0</th>\n",
       "      <td>362</td>\n",
       "      <td>7,82€</td>\n",
       "      <td>TOTAL</td>\n",
       "    </tr>\n",
       "    <tr>\n",
       "      <th>2</th>\n",
       "      <td>23</td>\n",
       "      <td>1.62€</td>\n",
       "      <td>TOTAL</td>\n",
       "    </tr>\n",
       "    <tr>\n",
       "      <th>4</th>\n",
       "      <td>1543</td>\n",
       "      <td>4,</td>\n",
       "      <td>TOTAL</td>\n",
       "    </tr>\n",
       "    <tr>\n",
       "      <th>10</th>\n",
       "      <td>1934</td>\n",
       "      <td>7.90</td>\n",
       "      <td>TOTAL</td>\n",
       "    </tr>\n",
       "    <tr>\n",
       "      <th>11</th>\n",
       "      <td>1934</td>\n",
       "      <td>7.90</td>\n",
       "      <td>TOTAL</td>\n",
       "    </tr>\n",
       "  </tbody>\n",
       "</table>\n",
       "</div>"
      ],
      "text/plain": [
       "      id   text  label\n",
       "0    362  7,82€  TOTAL\n",
       "2     23  1.62€  TOTAL\n",
       "4   1543     4,  TOTAL\n",
       "10  1934   7.90  TOTAL\n",
       "11  1934   7.90  TOTAL"
      ]
     },
     "execution_count": 18,
     "metadata": {},
     "output_type": "execute_result"
    }
   ],
   "source": [
    "total = copy.deepcopy(lm_df[lm_df['label'] == 'TOTAL'])\n",
    "total\n",
    "total.head()"
   ]
  },
  {
   "cell_type": "code",
   "execution_count": 20,
   "metadata": {},
   "outputs": [],
   "source": [
    "total[\"id\"] = total[\"id\"].astype(int)"
   ]
  },
  {
   "cell_type": "code",
   "execution_count": 22,
   "metadata": {},
   "outputs": [
    {
     "data": {
      "text/plain": [
       "0       362\n",
       "2        23\n",
       "4      1543\n",
       "10     1934\n",
       "11     1934\n",
       "       ... \n",
       "822    1096\n",
       "825     222\n",
       "826     222\n",
       "830    1731\n",
       "831     204\n",
       "Name: id, Length: 358, dtype: int64"
      ]
     },
     "execution_count": 22,
     "metadata": {},
     "output_type": "execute_result"
    }
   ],
   "source": [
    "total[\"id\"]"
   ]
  },
  {
   "cell_type": "code",
   "execution_count": null,
   "metadata": {},
   "outputs": [],
   "source": []
  }
 ],
 "metadata": {
  "kernelspec": {
   "display_name": "ssg",
   "language": "python",
   "name": "python3"
  },
  "language_info": {
   "codemirror_mode": {
    "name": "ipython",
    "version": 3
   },
   "file_extension": ".py",
   "mimetype": "text/x-python",
   "name": "python",
   "nbconvert_exporter": "python",
   "pygments_lexer": "ipython3",
   "version": "3.8.15"
  },
  "orig_nbformat": 4,
  "vscode": {
   "interpreter": {
    "hash": "9b5af422a02ea5aed1553b3b690791e79be7ac8235c27d10c16a40daf8fc84ab"
   }
  }
 },
 "nbformat": 4,
 "nbformat_minor": 2
}
