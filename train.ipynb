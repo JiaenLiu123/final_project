{
 "cells": [
  {
   "attachments": {},
   "cell_type": "markdown",
   "metadata": {},
   "source": [
    "# Prepare dataset"
   ]
  },
  {
   "cell_type": "code",
   "execution_count": 1,
   "metadata": {},
   "outputs": [
    {
     "data": {
      "text/html": [
       "<div>\n",
       "<style scoped>\n",
       "    .dataframe tbody tr th:only-of-type {\n",
       "        vertical-align: middle;\n",
       "    }\n",
       "\n",
       "    .dataframe tbody tr th {\n",
       "        vertical-align: top;\n",
       "    }\n",
       "\n",
       "    .dataframe thead th {\n",
       "        text-align: right;\n",
       "    }\n",
       "</style>\n",
       "<table border=\"1\" class=\"dataframe\">\n",
       "  <thead>\n",
       "    <tr style=\"text-align: right;\">\n",
       "      <th></th>\n",
       "      <th>id</th>\n",
       "      <th>correct</th>\n",
       "      <th>date</th>\n",
       "      <th>naive_date_confidence</th>\n",
       "      <th>total</th>\n",
       "      <th>naive_total_confidence</th>\n",
       "      <th>text</th>\n",
       "    </tr>\n",
       "  </thead>\n",
       "  <tbody>\n",
       "    <tr>\n",
       "      <th>0</th>\n",
       "      <td>4</td>\n",
       "      <td>True</td>\n",
       "      <td>2017-02-27 12:29:14</td>\n",
       "      <td>0.687667</td>\n",
       "      <td>6.74</td>\n",
       "      <td>0.667967</td>\n",
       "      <td>CRF-CITY LA ROCHELLE\\n33 RUE DE LA SCIERIE\\n17...</td>\n",
       "    </tr>\n",
       "    <tr>\n",
       "      <th>1</th>\n",
       "      <td>5</td>\n",
       "      <td>True</td>\n",
       "      <td>2017-02-26 11:10:32</td>\n",
       "      <td>0.689433</td>\n",
       "      <td>11.16</td>\n",
       "      <td>0.667933</td>\n",
       "      <td>city\\nCRF-CITY LA ROCHELLE\\n33 RUE DE LA SCIER...</td>\n",
       "    </tr>\n",
       "    <tr>\n",
       "      <th>2</th>\n",
       "      <td>6</td>\n",
       "      <td>True</td>\n",
       "      <td>2017-02-25 11:05:35</td>\n",
       "      <td>0.704167</td>\n",
       "      <td>6.99</td>\n",
       "      <td>0.668133</td>\n",
       "      <td>CRF-CITY LA ROCHELLE\\n33 RUE DE LA SCIERIE\\n17...</td>\n",
       "    </tr>\n",
       "    <tr>\n",
       "      <th>3</th>\n",
       "      <td>9</td>\n",
       "      <td>True</td>\n",
       "      <td>2016-05-23 12:29:03</td>\n",
       "      <td>0.697633</td>\n",
       "      <td>5.04</td>\n",
       "      <td>0.668100</td>\n",
       "      <td>CRF-CITY LA ROCHELLE\\n33 RUE DE LA SCIERIE\\n17...</td>\n",
       "    </tr>\n",
       "    <tr>\n",
       "      <th>4</th>\n",
       "      <td>10</td>\n",
       "      <td>True</td>\n",
       "      <td>2016-04-22 20:25:13</td>\n",
       "      <td>0.685633</td>\n",
       "      <td>14.46</td>\n",
       "      <td>0.667833</td>\n",
       "      <td>Carrefour\\ncity\\nCRF-CITY LA ROCHELLE\\n33 RUE ...</td>\n",
       "    </tr>\n",
       "  </tbody>\n",
       "</table>\n",
       "</div>"
      ],
      "text/plain": [
       "   id  correct                date  naive_date_confidence  total  \\\n",
       "0   4     True 2017-02-27 12:29:14               0.687667   6.74   \n",
       "1   5     True 2017-02-26 11:10:32               0.689433  11.16   \n",
       "2   6     True 2017-02-25 11:05:35               0.704167   6.99   \n",
       "3   9     True 2016-05-23 12:29:03               0.697633   5.04   \n",
       "4  10     True 2016-04-22 20:25:13               0.685633  14.46   \n",
       "\n",
       "   naive_total_confidence                                               text  \n",
       "0                0.667967  CRF-CITY LA ROCHELLE\\n33 RUE DE LA SCIERIE\\n17...  \n",
       "1                0.667933  city\\nCRF-CITY LA ROCHELLE\\n33 RUE DE LA SCIER...  \n",
       "2                0.668133  CRF-CITY LA ROCHELLE\\n33 RUE DE LA SCIERIE\\n17...  \n",
       "3                0.668100  CRF-CITY LA ROCHELLE\\n33 RUE DE LA SCIERIE\\n17...  \n",
       "4                0.667833  Carrefour\\ncity\\nCRF-CITY LA ROCHELLE\\n33 RUE ...  "
      ]
     },
     "execution_count": 1,
     "metadata": {},
     "output_type": "execute_result"
    }
   ],
   "source": [
    "# Import some necessary libraries\n",
    "\n",
    "import pandas as pd\n",
    "import numpy as np\n",
    "\n",
    "df = pd.read_csv(\"data/train.csv\", index_col=\"Unnamed: 0\", parse_dates=[\"date\"])\n",
    "df.head()\n"
   ]
  },
  {
   "cell_type": "code",
   "execution_count": 10,
   "metadata": {},
   "outputs": [],
   "source": [
    "df[\"date\"] = [item.date() for item in df[\"date\"]]"
   ]
  },
  {
   "cell_type": "code",
   "execution_count": 4,
   "metadata": {},
   "outputs": [],
   "source": [
    "df[\"text\"] = df[\"text\"].apply(lambda x: x.replace(\"\\n\",\" \"))"
   ]
  },
  {
   "cell_type": "code",
   "execution_count": 5,
   "metadata": {},
   "outputs": [
    {
     "name": "stderr",
     "output_type": "stream",
     "text": [
      "/tmp/ipykernel_395/1253832740.py:1: FutureWarning: The behavior of `series[i:j]` with an integer-dtype index is deprecated. In a future version, this will be treated as *label-based* indexing, consistent with e.g. `series[i]` lookups. To retain the old behavior, use `series.iloc[i:j]`. To get the future behavior, use `series.loc[i:j]`.\n",
      "  df[\"text\"][0:5]\n"
     ]
    },
    {
     "data": {
      "text/plain": [
       "0    CRF-CITY LA ROCHELLE 33 RUE DE LA SCIERIE 1700...\n",
       "1    city CRF-CITY LA ROCHELLE 33 RUE DE LA SCIERIE...\n",
       "2    CRF-CITY LA ROCHELLE 33 RUE DE LA SCIERIE 1700...\n",
       "3    CRF-CITY LA ROCHELLE 33 RUE DE LA SCIERIE 1700...\n",
       "4    Carrefour city CRF-CITY LA ROCHELLE 33 RUE DE ...\n",
       "Name: text, dtype: object"
      ]
     },
     "execution_count": 5,
     "metadata": {},
     "output_type": "execute_result"
    }
   ],
   "source": [
    "df[\"text\"][0:5]"
   ]
  },
  {
   "cell_type": "code",
   "execution_count": null,
   "metadata": {},
   "outputs": [],
   "source": [
    "df[\"text\"] = df[\"text\"].apply(lambda x: x.split(\" \"))"
   ]
  },
  {
   "cell_type": "code",
   "execution_count": 9,
   "metadata": {},
   "outputs": [
    {
     "name": "stdout",
     "output_type": "stream",
     "text": [
      "['CRF-CITY', 'LA', 'ROCHELLE', '33', 'RUE', 'DE', 'LA', 'SCIERIE', '17000', 'LA', 'ROCHELLE', 'Tel', ':', '05.46.27.02.12', 'DESCRIPTION', 'QTE', 'MONTANT', '*85G', 'VERRINE', 'TIRANI', '2.01€', '*PARMENTIER', 'CANARD', '4.73€', '2', 'ARTICLE(S)', 'TOTAL', 'A', 'PAYER', '6.74€', 'CB', 'EMV', 'SANS', 'CONTACT', 'EUR', '6.74€', 'Si', 'vous', 'aviez', 'la', 'carte', 'fidélité,', 'vous', 'auriez', 'cumulé', '0.30€', 'sur', 'votre', 'compte', 'fidélité', 'Carrefour.', 'Détails:', 'Remise', 'produits', 'fide', '0.30€', '0006', '004', '000122', '27/02/2017', '12:24:45', 'MERCI', 'DE', 'VOTRE', 'VISITE', 'A', 'BIENTOT', '']\n"
     ]
    }
   ],
   "source": [
    "print(df[\"text\"][0])"
   ]
  },
  {
   "cell_type": "code",
   "execution_count": null,
   "metadata": {},
   "outputs": [],
   "source": [
    "# generate IOB tags for each word in the text\n",
    "\n",
    "\n",
    "\n",
    "def generate_iob_tags(text, entities):\n",
    "    tags = []\n",
    "    for word in text:\n",
    "        if word in entities:\n",
    "            tags.append(\"B\")\n",
    "        else:\n",
    "            tags.append(\"O\")\n",
    "    return tags"
   ]
  },
  {
   "cell_type": "code",
   "execution_count": 11,
   "metadata": {},
   "outputs": [
    {
     "data": {
      "text/html": [
       "<div>\n",
       "<style scoped>\n",
       "    .dataframe tbody tr th:only-of-type {\n",
       "        vertical-align: middle;\n",
       "    }\n",
       "\n",
       "    .dataframe tbody tr th {\n",
       "        vertical-align: top;\n",
       "    }\n",
       "\n",
       "    .dataframe thead th {\n",
       "        text-align: right;\n",
       "    }\n",
       "</style>\n",
       "<table border=\"1\" class=\"dataframe\">\n",
       "  <thead>\n",
       "    <tr style=\"text-align: right;\">\n",
       "      <th></th>\n",
       "      <th>id</th>\n",
       "      <th>correct</th>\n",
       "      <th>date</th>\n",
       "      <th>naive_date_confidence</th>\n",
       "      <th>total</th>\n",
       "      <th>naive_total_confidence</th>\n",
       "      <th>text</th>\n",
       "    </tr>\n",
       "  </thead>\n",
       "  <tbody>\n",
       "    <tr>\n",
       "      <th>0</th>\n",
       "      <td>4</td>\n",
       "      <td>True</td>\n",
       "      <td>2017-02-27</td>\n",
       "      <td>0.687667</td>\n",
       "      <td>6.74</td>\n",
       "      <td>0.667967</td>\n",
       "      <td>[CRF-CITY, LA, ROCHELLE, 33, RUE, DE, LA, SCIE...</td>\n",
       "    </tr>\n",
       "    <tr>\n",
       "      <th>1</th>\n",
       "      <td>5</td>\n",
       "      <td>True</td>\n",
       "      <td>2017-02-26</td>\n",
       "      <td>0.689433</td>\n",
       "      <td>11.16</td>\n",
       "      <td>0.667933</td>\n",
       "      <td>[city, CRF-CITY, LA, ROCHELLE, 33, RUE, DE, LA...</td>\n",
       "    </tr>\n",
       "    <tr>\n",
       "      <th>2</th>\n",
       "      <td>6</td>\n",
       "      <td>True</td>\n",
       "      <td>2017-02-25</td>\n",
       "      <td>0.704167</td>\n",
       "      <td>6.99</td>\n",
       "      <td>0.668133</td>\n",
       "      <td>[CRF-CITY, LA, ROCHELLE, 33, RUE, DE, LA, SCIE...</td>\n",
       "    </tr>\n",
       "    <tr>\n",
       "      <th>3</th>\n",
       "      <td>9</td>\n",
       "      <td>True</td>\n",
       "      <td>2016-05-23</td>\n",
       "      <td>0.697633</td>\n",
       "      <td>5.04</td>\n",
       "      <td>0.668100</td>\n",
       "      <td>[CRF-CITY, LA, ROCHELLE, 33, RUE, DE, LA, SCIE...</td>\n",
       "    </tr>\n",
       "    <tr>\n",
       "      <th>4</th>\n",
       "      <td>10</td>\n",
       "      <td>True</td>\n",
       "      <td>2016-04-22</td>\n",
       "      <td>0.685633</td>\n",
       "      <td>14.46</td>\n",
       "      <td>0.667833</td>\n",
       "      <td>[Carrefour, city, CRF-CITY, LA, ROCHELLE, 33, ...</td>\n",
       "    </tr>\n",
       "  </tbody>\n",
       "</table>\n",
       "</div>"
      ],
      "text/plain": [
       "   id  correct        date  naive_date_confidence  total  \\\n",
       "0   4     True  2017-02-27               0.687667   6.74   \n",
       "1   5     True  2017-02-26               0.689433  11.16   \n",
       "2   6     True  2017-02-25               0.704167   6.99   \n",
       "3   9     True  2016-05-23               0.697633   5.04   \n",
       "4  10     True  2016-04-22               0.685633  14.46   \n",
       "\n",
       "   naive_total_confidence                                               text  \n",
       "0                0.667967  [CRF-CITY, LA, ROCHELLE, 33, RUE, DE, LA, SCIE...  \n",
       "1                0.667933  [city, CRF-CITY, LA, ROCHELLE, 33, RUE, DE, LA...  \n",
       "2                0.668133  [CRF-CITY, LA, ROCHELLE, 33, RUE, DE, LA, SCIE...  \n",
       "3                0.668100  [CRF-CITY, LA, ROCHELLE, 33, RUE, DE, LA, SCIE...  \n",
       "4                0.667833  [Carrefour, city, CRF-CITY, LA, ROCHELLE, 33, ...  "
      ]
     },
     "execution_count": 11,
     "metadata": {},
     "output_type": "execute_result"
    }
   ],
   "source": [
    "df.head()"
   ]
  },
  {
   "cell_type": "code",
   "execution_count": 12,
   "metadata": {},
   "outputs": [
    {
     "data": {
      "text/plain": [
       "'CRF-CITY LA ROCHELLE\\n33 RUE DE LA SCIERIE\\n17000 LA ROCHELLE\\nTel : 05.46.27.02.12\\nDESCRIPTION QTE MONTANT\\n*85G VERRINE TIRANI 2.01€\\n*PARMENTIER CANARD 4.73€\\n2 ARTICLE(S) TOTAL A PAYER 6.74€\\nCB EMV SANS CONTACT EUR 6.74€\\nSi vous aviez la carte fidélité,\\nvous auriez cumulé 0.30€ sur\\nvotre compte fidélité Carrefour.\\nDétails:\\nRemise produits fide 0.30€\\n0006 004 000122 27/02/2017 12:24:45\\nMERCI DE VOTRE VISITE\\nA BIENTOT\\n'"
      ]
     },
     "execution_count": 12,
     "metadata": {},
     "output_type": "execute_result"
    }
   ],
   "source": [
    "df[\"text\"][0].strip(\" \")"
   ]
  },
  {
   "cell_type": "code",
   "execution_count": 1,
   "metadata": {},
   "outputs": [
    {
     "name": "stderr",
     "output_type": "stream",
     "text": [
      "/home/jiaenliu/miniconda3/envs/receipt/lib/python3.8/site-packages/tqdm/auto.py:22: TqdmWarning: IProgress not found. Please update jupyter and ipywidgets. See https://ipywidgets.readthedocs.io/en/stable/user_install.html\n",
      "  from .autonotebook import tqdm as notebook_tqdm\n"
     ]
    },
    {
     "name": "stdout",
     "output_type": "stream",
     "text": [
      "Downloading and preparing dataset sroie/sroie to /home/jiaenliu/.cache/huggingface/datasets/darentang___sroie/sroie/1.0.0/26ed9374c9a15a1d2f44fd8886f679076e1a1fd7da2d53726d6e58a99436c506...\n"
     ]
    },
    {
     "name": "stderr",
     "output_type": "stream",
     "text": [
      "Downloading data: 100%|██████████| 456M/456M [02:37<00:00, 2.88MB/s]\n",
      "Downloading data files: 100%|██████████| 1/1 [02:39<00:00, 159.03s/it]\n",
      "Extracting data files: 100%|██████████| 1/1 [00:03<00:00,  3.44s/it]\n",
      "                                                                "
     ]
    },
    {
     "name": "stdout",
     "output_type": "stream",
     "text": [
      "Dataset sroie downloaded and prepared to /home/jiaenliu/.cache/huggingface/datasets/darentang___sroie/sroie/1.0.0/26ed9374c9a15a1d2f44fd8886f679076e1a1fd7da2d53726d6e58a99436c506. Subsequent calls will reuse this data.\n"
     ]
    },
    {
     "name": "stderr",
     "output_type": "stream",
     "text": [
      "\r"
     ]
    }
   ],
   "source": [
    "from datasets import load_dataset\n",
    "dataset = load_dataset(\"darentang/sroie\", split=\"test\")\n",
    "labels = dataset.features['ner_tags'].feature.names\n",
    "# labels"
   ]
  },
  {
   "cell_type": "code",
   "execution_count": 3,
   "metadata": {},
   "outputs": [
    {
     "name": "stdout",
     "output_type": "stream",
     "text": [
      "['O', 'B-COMPANY', 'I-COMPANY', 'B-DATE', 'I-DATE', 'B-ADDRESS', 'I-ADDRESS', 'B-TOTAL', 'I-TOTAL']\n"
     ]
    }
   ],
   "source": [
    "print(labels)"
   ]
  },
  {
   "cell_type": "code",
   "execution_count": null,
   "metadata": {},
   "outputs": [],
   "source": []
  }
 ],
 "metadata": {
  "kernelspec": {
   "display_name": "receipt",
   "language": "python",
   "name": "python3"
  },
  "language_info": {
   "codemirror_mode": {
    "name": "ipython",
    "version": 3
   },
   "file_extension": ".py",
   "mimetype": "text/x-python",
   "name": "python",
   "nbconvert_exporter": "python",
   "pygments_lexer": "ipython3",
   "version": "3.8.15 (default, Nov 24 2022, 15:19:38) \n[GCC 11.2.0]"
  },
  "orig_nbformat": 4,
  "vscode": {
   "interpreter": {
    "hash": "903843664969acf17be6d270dae43f3dd8ec2da94c5c66ccffa6235e417105bb"
   }
  }
 },
 "nbformat": 4,
 "nbformat_minor": 2
}
